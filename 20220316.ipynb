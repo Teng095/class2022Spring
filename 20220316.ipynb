{
  "nbformat": 4,
  "nbformat_minor": 0,
  "metadata": {
    "colab": {
      "name": "20220316.ipynb",
      "provenance": [],
      "authorship_tag": "ABX9TyOrD2S21MbnTsvBa/WjoOQn",
      "include_colab_link": true
    },
    "kernelspec": {
      "name": "python3",
      "display_name": "Python 3"
    },
    "language_info": {
      "name": "python"
    }
  },
  "cells": [
    {
      "cell_type": "markdown",
      "metadata": {
        "id": "view-in-github",
        "colab_type": "text"
      },
      "source": [
        "<a href=\"https://colab.research.google.com/github/Teng095/class2022Spring/blob/main/20220316.ipynb\" target=\"_parent\"><img src=\"https://colab.research.google.com/assets/colab-badge.svg\" alt=\"Open In Colab\"/></a>"
      ]
    },
    {
      "cell_type": "markdown",
      "source": [
        "### 0310 ---> 파이썬 변수 (int, float, str, list, tuple, dict)\n",
        "\n"
      ],
      "metadata": {
        "id": "QxxrWWFaLwlX"
      }
    },
    {
      "cell_type": "markdown",
      "source": [
        "programming language --->\n",
        "words ---\n",
        "word/ meaning --->\n",
        "     content\n",
        "\n"
      ],
      "metadata": {
        "id": "N_rRkwvJNF1x"
      }
    },
    {
      "cell_type": "markdown",
      "source": [
        " \n",
        "syntax ---> 조건문 (if) and 반복문 (for)\n"
      ],
      "metadata": {
        "id": "gSaL2xTVN69v"
      }
    },
    {
      "cell_type": "markdown",
      "source": [
        "一. variables.ipynb"
      ],
      "metadata": {
        "id": "gctBPBaDOhFr"
      }
    },
    {
      "cell_type": "markdown",
      "source": [
        "변수(variables) ---> numbers + string\n"
      ],
      "metadata": {
        "id": "bUQlza0MQDnB"
      }
    },
    {
      "cell_type": "code",
      "source": [
        "a = 1; print(type(a))"
      ],
      "metadata": {
        "colab": {
          "base_uri": "https://localhost:8080/"
        },
        "id": "NeSRfEFhQRk5",
        "outputId": "4b16a1a5-7bfb-4550-835b-e6a05a89f98a"
      },
      "execution_count": 11,
      "outputs": [
        {
          "output_type": "stream",
          "name": "stdout",
          "text": [
            "<class 'int'>\n"
          ]
        }
      ]
    },
    {
      "cell_type": "markdown",
      "source": [
        "practice.start"
      ],
      "metadata": {
        "id": "XZcVKxbFRr-z"
      }
    },
    {
      "cell_type": "code",
      "source": [
        "print (a)"
      ],
      "metadata": {
        "colab": {
          "base_uri": "https://localhost:8080/"
        },
        "id": "MA9x5qHoRRfl",
        "outputId": "d7fa9d0d-adb2-4876-c3e5-d4832083005b"
      },
      "execution_count": 21,
      "outputs": [
        {
          "output_type": "stream",
          "name": "stdout",
          "text": [
            "1\n"
          ]
        }
      ]
    },
    {
      "cell_type": "code",
      "source": [
        "b = 1; print (type(b))"
      ],
      "metadata": {
        "colab": {
          "base_uri": "https://localhost:8080/"
        },
        "id": "rFHkQoMhRCQL",
        "outputId": "d90cf73e-b945-4754-8a0f-01705b3a7e2c"
      },
      "execution_count": 23,
      "outputs": [
        {
          "output_type": "stream",
          "name": "stdout",
          "text": [
            "<class 'int'>\n"
          ]
        }
      ]
    },
    {
      "cell_type": "markdown",
      "source": [
        "'*int' --> integer (整数）*"
      ],
      "metadata": {
        "id": "ZlhycjShSd4z"
      }
    },
    {
      "cell_type": "code",
      "source": [
        "print(b), print(type(b))"
      ],
      "metadata": {
        "colab": {
          "base_uri": "https://localhost:8080/"
        },
        "id": "sRIasRzzRZkb",
        "outputId": "c706eaca-9d75-4057-81a7-dde11a0eccf7"
      },
      "execution_count": 26,
      "outputs": [
        {
          "output_type": "stream",
          "name": "stdout",
          "text": [
            "1\n",
            "<class 'int'>\n"
          ]
        },
        {
          "output_type": "execute_result",
          "data": {
            "text/plain": [
              "(None, None)"
            ]
          },
          "metadata": {},
          "execution_count": 26
        }
      ]
    },
    {
      "cell_type": "markdown",
      "source": [
        "practice.end"
      ],
      "metadata": {
        "id": "VFAKu9RSR1ir"
      }
    },
    {
      "cell_type": "code",
      "source": [
        "a = 1.1; print(type(a))"
      ],
      "metadata": {
        "colab": {
          "base_uri": "https://localhost:8080/"
        },
        "id": "olfyaW0uRygI",
        "outputId": "d705b7eb-cdf6-4f12-9c52-bac5f2756617"
      },
      "execution_count": 27,
      "outputs": [
        {
          "output_type": "stream",
          "name": "stdout",
          "text": [
            "<class 'float'>\n"
          ]
        }
      ]
    },
    {
      "cell_type": "markdown",
      "source": [
        "*'flost' ---> （带小数点的类型）*"
      ],
      "metadata": {
        "id": "bjklgKriS9py"
      }
    },
    {
      "cell_type": "code",
      "source": [
        "a = '123'; print(type(a)); print(a[1]) "
      ],
      "metadata": {
        "colab": {
          "base_uri": "https://localhost:8080/"
        },
        "id": "80VlDR6MTJ0p",
        "outputId": "ba55499c-7769-47f3-fa37-c9c7ca18a36b"
      },
      "execution_count": 28,
      "outputs": [
        {
          "output_type": "stream",
          "name": "stdout",
          "text": [
            "<class 'str'>\n",
            "2\n"
          ]
        }
      ]
    },
    {
      "cell_type": "code",
      "source": [
        "a = 'hello'; print(type(a)); print(a[1])"
      ],
      "metadata": {
        "colab": {
          "base_uri": "https://localhost:8080/"
        },
        "id": "QWG3iBqaaQZ6",
        "outputId": "1434c0b6-dbcf-4b3b-b0ea-df7dc468b827"
      },
      "execution_count": 29,
      "outputs": [
        {
          "output_type": "stream",
          "name": "stdout",
          "text": [
            "<class 'str'>\n",
            "e\n"
          ]
        }
      ]
    },
    {
      "cell_type": "markdown",
      "source": [
        "*'str' ---> string（字符串）*\n"
      ],
      "metadata": {
        "id": "Lf7GMGRWeQEp"
      }
    },
    {
      "cell_type": "markdown",
      "source": [
        "其形式为： a = ‘123’ and so on\n"
      ],
      "metadata": {
        "id": "Xr16vL0ggQTY"
      }
    },
    {
      "cell_type": "markdown",
      "source": [
        "print(a[1]) ---> a中的第一个字符 （字符串从左往右开始数的时候从0开始），所以输出结果为：2"
      ],
      "metadata": {
        "id": "uQDJtqJ8f7YS"
      }
    },
    {
      "cell_type": "markdown",
      "source": [
        "同理可得：print（a[1])的输出结果为：e"
      ],
      "metadata": {
        "id": "jypcUvjif9Aq"
      }
    },
    {
      "cell_type": "markdown",
      "source": [
        "The output of print(a[1]) is: e"
      ],
      "metadata": {
        "id": "zl1wMN2-hF_o"
      }
    },
    {
      "cell_type": "code",
      "source": [
        "a = [1, 2, 3, 4]; print(type(a)); print(a[0])"
      ],
      "metadata": {
        "colab": {
          "base_uri": "https://localhost:8080/"
        },
        "id": "iu4Ka-SAgd4p",
        "outputId": "baa58e71-6516-4cbd-d55c-6843bbbb57f5"
      },
      "execution_count": 37,
      "outputs": [
        {
          "output_type": "stream",
          "name": "stdout",
          "text": [
            "<class 'list'>\n",
            "1\n"
          ]
        }
      ]
    },
    {
      "cell_type": "markdown",
      "source": [
        "*’list' ---> 列表 ---> tuple*"
      ],
      "metadata": {
        "id": "KTjOBWpkf90j"
      }
    },
    {
      "cell_type": "markdown",
      "source": [
        "其形式为： a = [1, 2, 3, 4] "
      ],
      "metadata": {
        "id": "elrOgmNqgLku"
      }
    },
    {
      "cell_type": "markdown",
      "source": [
        "Similarly： print(a[0]) 的输出结果为： 1"
      ],
      "metadata": {
        "id": "KGdAmwyuggQd"
      }
    },
    {
      "cell_type": "markdown",
      "source": [
        "The output of print(a[0]) is: 1"
      ],
      "metadata": {
        "id": "_W-LaB27hCms"
      }
    },
    {
      "cell_type": "code",
      "source": [
        "a = [1,'a', [3, '4']]; print(type(a)); print(a[0]); print(a[1]); print(a[2]); print(a[2][1])"
      ],
      "metadata": {
        "colab": {
          "base_uri": "https://localhost:8080/"
        },
        "id": "osavPeJ3d5ks",
        "outputId": "bbfa9fbf-3d0f-48f9-b988-721cde2a4b09"
      },
      "execution_count": 32,
      "outputs": [
        {
          "output_type": "stream",
          "name": "stdout",
          "text": [
            "<class 'list'>\n",
            "1\n",
            "a\n",
            "[3, '4']\n",
            "4\n"
          ]
        }
      ]
    },
    {
      "cell_type": "markdown",
      "source": [
        "print(a[2][1]) ---> 在a中的第二个字符为【3，‘4’】，然后在这个字符串中的第一个字符是4"
      ],
      "metadata": {
        "id": "sB9SBZP_kN-n"
      }
    },
    {
      "cell_type": "markdown",
      "source": [
        "print(a[2][1]) ---> the second character in a is [ 3, '4' ], then the first character in this string is 4"
      ],
      "metadata": {
        "id": "7AZ6VbbBkulv"
      }
    },
    {
      "cell_type": "code",
      "source": [
        "a =\t{\"a\": \"apple\", \"b\": \"orange\", \"c\": 2014}\n",
        "print(type(a))\n",
        "print(a[\"a\"])"
      ],
      "metadata": {
        "colab": {
          "base_uri": "https://localhost:8080/"
        },
        "id": "Qj1l6XMRfwn6",
        "outputId": "74e8ab7b-de7d-4b80-f3a3-3bbb19b925c5"
      },
      "execution_count": 49,
      "outputs": [
        {
          "output_type": "stream",
          "name": "stdout",
          "text": [
            "<class 'dict'>\n",
            "apple\n"
          ]
        }
      ]
    },
    {
      "cell_type": "markdown",
      "source": [
        "*'dict' ---> dictionay (用于创建一个字典）*"
      ],
      "metadata": {
        "id": "SwJ1Hn2Vi7P8"
      }
    },
    {
      "cell_type": "markdown",
      "source": [
        "(key : value)"
      ],
      "metadata": {
        "id": "AtT3eGSwnAiB"
      }
    },
    {
      "cell_type": "markdown",
      "source": [
        "practice. start"
      ],
      "metadata": {
        "id": "rtbbu-uFlg4w"
      }
    },
    {
      "cell_type": "code",
      "source": [
        "a = [1,2,3]"
      ],
      "metadata": {
        "id": "eWIoO9k0lgVB"
      },
      "execution_count": 41,
      "outputs": []
    },
    {
      "cell_type": "code",
      "source": [
        "a[1] = 0"
      ],
      "metadata": {
        "id": "GOxjbBKLlpK6"
      },
      "execution_count": 42,
      "outputs": []
    },
    {
      "cell_type": "code",
      "source": [
        "print(a)"
      ],
      "metadata": {
        "colab": {
          "base_uri": "https://localhost:8080/"
        },
        "id": "T3s9yHL1luol",
        "outputId": "146db7a1-b375-46ed-bb55-299b95b693f1"
      },
      "execution_count": 44,
      "outputs": [
        {
          "output_type": "stream",
          "name": "stdout",
          "text": [
            "[1, 0, 3]\n"
          ]
        }
      ]
    },
    {
      "cell_type": "markdown",
      "source": [
        "practice. end"
      ],
      "metadata": {
        "id": "nMhxbg4bly31"
      }
    }
  ]
}