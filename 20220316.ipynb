{
  "nbformat": 4,
  "nbformat_minor": 0,
  "metadata": {
    "colab": {
      "name": "20220316.ipynb",
      "provenance": [],
      "authorship_tag": "ABX9TyNb3QjzvUwvHVAd0kGARTLR",
      "include_colab_link": true
    },
    "kernelspec": {
      "name": "python3",
      "display_name": "Python 3"
    },
    "language_info": {
      "name": "python"
    }
  },
  "cells": [
    {
      "cell_type": "markdown",
      "metadata": {
        "id": "view-in-github",
        "colab_type": "text"
      },
      "source": [
        "<a href=\"https://colab.research.google.com/github/Teng095/class2022Spring/blob/main/20220316.ipynb\" target=\"_parent\"><img src=\"https://colab.research.google.com/assets/colab-badge.svg\" alt=\"Open In Colab\"/></a>"
      ]
    },
    {
      "cell_type": "markdown",
      "source": [
        "### 0310 ---> 파이썬 변수 (int, float, str, list, tuple, dict)\n",
        "\n"
      ],
      "metadata": {
        "id": "QxxrWWFaLwlX"
      }
    },
    {
      "cell_type": "markdown",
      "source": [
        "-------> variables.ipynb <-------"
      ],
      "metadata": {
        "id": "Mskskz1TzQKc"
      }
    },
    {
      "cell_type": "markdown",
      "source": [
        "programming language --->\n",
        "words ---\n",
        "word/ meaning --->\n",
        "     content\n",
        "\n"
      ],
      "metadata": {
        "id": "N_rRkwvJNF1x"
      }
    },
    {
      "cell_type": "markdown",
      "source": [
        " \n",
        "syntax ---> 조건문 (if) and 반복문 (for)\n"
      ],
      "metadata": {
        "id": "gSaL2xTVN69v"
      }
    },
    {
      "cell_type": "markdown",
      "source": [
        "一. variables.ipynb"
      ],
      "metadata": {
        "id": "gctBPBaDOhFr"
      }
    },
    {
      "cell_type": "markdown",
      "source": [
        "변수(variables) ---> numbers + string\n"
      ],
      "metadata": {
        "id": "bUQlza0MQDnB"
      }
    },
    {
      "cell_type": "code",
      "source": [
        "a = 1; print(type(a))"
      ],
      "metadata": {
        "colab": {
          "base_uri": "https://localhost:8080/"
        },
        "id": "NeSRfEFhQRk5",
        "outputId": "4b16a1a5-7bfb-4550-835b-e6a05a89f98a"
      },
      "execution_count": null,
      "outputs": [
        {
          "output_type": "stream",
          "name": "stdout",
          "text": [
            "<class 'int'>\n"
          ]
        }
      ]
    },
    {
      "cell_type": "markdown",
      "source": [
        "practice.start"
      ],
      "metadata": {
        "id": "XZcVKxbFRr-z"
      }
    },
    {
      "cell_type": "code",
      "source": [
        "print (a)"
      ],
      "metadata": {
        "colab": {
          "base_uri": "https://localhost:8080/"
        },
        "id": "MA9x5qHoRRfl",
        "outputId": "d7fa9d0d-adb2-4876-c3e5-d4832083005b"
      },
      "execution_count": null,
      "outputs": [
        {
          "output_type": "stream",
          "name": "stdout",
          "text": [
            "1\n"
          ]
        }
      ]
    },
    {
      "cell_type": "code",
      "source": [
        "b = 1; print (type(b))"
      ],
      "metadata": {
        "colab": {
          "base_uri": "https://localhost:8080/"
        },
        "id": "rFHkQoMhRCQL",
        "outputId": "d90cf73e-b945-4754-8a0f-01705b3a7e2c"
      },
      "execution_count": null,
      "outputs": [
        {
          "output_type": "stream",
          "name": "stdout",
          "text": [
            "<class 'int'>\n"
          ]
        }
      ]
    },
    {
      "cell_type": "markdown",
      "source": [
        "'*int' --> integer (整数）*"
      ],
      "metadata": {
        "id": "ZlhycjShSd4z"
      }
    },
    {
      "cell_type": "code",
      "source": [
        "print(b), print(type(b))"
      ],
      "metadata": {
        "colab": {
          "base_uri": "https://localhost:8080/"
        },
        "id": "sRIasRzzRZkb",
        "outputId": "c706eaca-9d75-4057-81a7-dde11a0eccf7"
      },
      "execution_count": null,
      "outputs": [
        {
          "output_type": "stream",
          "name": "stdout",
          "text": [
            "1\n",
            "<class 'int'>\n"
          ]
        },
        {
          "output_type": "execute_result",
          "data": {
            "text/plain": [
              "(None, None)"
            ]
          },
          "metadata": {},
          "execution_count": 26
        }
      ]
    },
    {
      "cell_type": "markdown",
      "source": [
        "practice.end"
      ],
      "metadata": {
        "id": "VFAKu9RSR1ir"
      }
    },
    {
      "cell_type": "code",
      "source": [
        "a = 1.1; print(type(a))"
      ],
      "metadata": {
        "colab": {
          "base_uri": "https://localhost:8080/"
        },
        "id": "olfyaW0uRygI",
        "outputId": "d705b7eb-cdf6-4f12-9c52-bac5f2756617"
      },
      "execution_count": null,
      "outputs": [
        {
          "output_type": "stream",
          "name": "stdout",
          "text": [
            "<class 'float'>\n"
          ]
        }
      ]
    },
    {
      "cell_type": "markdown",
      "source": [
        "*'flost' ---> （带小数点的类型）*"
      ],
      "metadata": {
        "id": "bjklgKriS9py"
      }
    },
    {
      "cell_type": "code",
      "source": [
        "a = '123'; print(type(a)); print(a[1]) "
      ],
      "metadata": {
        "colab": {
          "base_uri": "https://localhost:8080/"
        },
        "id": "80VlDR6MTJ0p",
        "outputId": "ba55499c-7769-47f3-fa37-c9c7ca18a36b"
      },
      "execution_count": null,
      "outputs": [
        {
          "output_type": "stream",
          "name": "stdout",
          "text": [
            "<class 'str'>\n",
            "2\n"
          ]
        }
      ]
    },
    {
      "cell_type": "code",
      "source": [
        "a = 'hello'; print(type(a)); print(a[1])"
      ],
      "metadata": {
        "colab": {
          "base_uri": "https://localhost:8080/"
        },
        "id": "QWG3iBqaaQZ6",
        "outputId": "1434c0b6-dbcf-4b3b-b0ea-df7dc468b827"
      },
      "execution_count": null,
      "outputs": [
        {
          "output_type": "stream",
          "name": "stdout",
          "text": [
            "<class 'str'>\n",
            "e\n"
          ]
        }
      ]
    },
    {
      "cell_type": "markdown",
      "source": [
        "*'str' ---> string（字符串）*\n"
      ],
      "metadata": {
        "id": "Lf7GMGRWeQEp"
      }
    },
    {
      "cell_type": "markdown",
      "source": [
        "其形式为： a = ‘123’ and so on\n"
      ],
      "metadata": {
        "id": "Xr16vL0ggQTY"
      }
    },
    {
      "cell_type": "markdown",
      "source": [
        "print(a[1]) ---> a中的第一个字符 （字符串从左往右开始数的时候从0开始），所以输出结果为：2"
      ],
      "metadata": {
        "id": "uQDJtqJ8f7YS"
      }
    },
    {
      "cell_type": "markdown",
      "source": [
        "同理可得：print（a[1])的输出结果为：e"
      ],
      "metadata": {
        "id": "jypcUvjif9Aq"
      }
    },
    {
      "cell_type": "markdown",
      "source": [
        "The output of print(a[1]) is: e"
      ],
      "metadata": {
        "id": "zl1wMN2-hF_o"
      }
    },
    {
      "cell_type": "code",
      "source": [
        "a = [1, 2, 3, 4]; print(type(a)); print(a[0])"
      ],
      "metadata": {
        "colab": {
          "base_uri": "https://localhost:8080/"
        },
        "id": "iu4Ka-SAgd4p",
        "outputId": "baa58e71-6516-4cbd-d55c-6843bbbb57f5"
      },
      "execution_count": null,
      "outputs": [
        {
          "output_type": "stream",
          "name": "stdout",
          "text": [
            "<class 'list'>\n",
            "1\n"
          ]
        }
      ]
    },
    {
      "cell_type": "markdown",
      "source": [
        "*’list' ---> 列表 ---> tuple*"
      ],
      "metadata": {
        "id": "KTjOBWpkf90j"
      }
    },
    {
      "cell_type": "markdown",
      "source": [
        "其形式为： a = [1, 2, 3, 4] "
      ],
      "metadata": {
        "id": "elrOgmNqgLku"
      }
    },
    {
      "cell_type": "markdown",
      "source": [
        "Similarly： print(a[0]) 的输出结果为： 1"
      ],
      "metadata": {
        "id": "KGdAmwyuggQd"
      }
    },
    {
      "cell_type": "markdown",
      "source": [
        "The output of print(a[0]) is: 1"
      ],
      "metadata": {
        "id": "_W-LaB27hCms"
      }
    },
    {
      "cell_type": "code",
      "source": [
        "a = [1,'a', [3, '4']]; print(type(a)); print(a[0]); print(a[1]); print(a[2]); print(a[2][1])"
      ],
      "metadata": {
        "colab": {
          "base_uri": "https://localhost:8080/"
        },
        "id": "osavPeJ3d5ks",
        "outputId": "bbfa9fbf-3d0f-48f9-b988-721cde2a4b09"
      },
      "execution_count": null,
      "outputs": [
        {
          "output_type": "stream",
          "name": "stdout",
          "text": [
            "<class 'list'>\n",
            "1\n",
            "a\n",
            "[3, '4']\n",
            "4\n"
          ]
        }
      ]
    },
    {
      "cell_type": "markdown",
      "source": [
        "print(a[2][1]) ---> 在a中的第二个字符为【3，‘4’】，然后在这个字符串中的第一个字符是4"
      ],
      "metadata": {
        "id": "sB9SBZP_kN-n"
      }
    },
    {
      "cell_type": "markdown",
      "source": [
        "print(a[2][1]) ---> the second character in a is [ 3, '4' ], then the first character in this string is 4"
      ],
      "metadata": {
        "id": "7AZ6VbbBkulv"
      }
    },
    {
      "cell_type": "code",
      "source": [
        "a =\t{\"a\": \"apple\", \"b\": \"orange\", \"c\": 2014}\n",
        "print(type(a))\n",
        "print(a[\"a\"])"
      ],
      "metadata": {
        "colab": {
          "base_uri": "https://localhost:8080/"
        },
        "id": "Qj1l6XMRfwn6",
        "outputId": "74e8ab7b-de7d-4b80-f3a3-3bbb19b925c5"
      },
      "execution_count": null,
      "outputs": [
        {
          "output_type": "stream",
          "name": "stdout",
          "text": [
            "<class 'dict'>\n",
            "apple\n"
          ]
        }
      ]
    },
    {
      "cell_type": "markdown",
      "source": [
        "*'dict' ---> dictionay (用于创建一个字典）*"
      ],
      "metadata": {
        "id": "SwJ1Hn2Vi7P8"
      }
    },
    {
      "cell_type": "markdown",
      "source": [
        "(key : value)"
      ],
      "metadata": {
        "id": "AtT3eGSwnAiB"
      }
    },
    {
      "cell_type": "markdown",
      "source": [
        "practice. start"
      ],
      "metadata": {
        "id": "rtbbu-uFlg4w"
      }
    },
    {
      "cell_type": "code",
      "source": [
        "a = [1,2,3]"
      ],
      "metadata": {
        "id": "eWIoO9k0lgVB"
      },
      "execution_count": null,
      "outputs": []
    },
    {
      "cell_type": "code",
      "source": [
        "a[1] = 0"
      ],
      "metadata": {
        "id": "GOxjbBKLlpK6"
      },
      "execution_count": null,
      "outputs": []
    },
    {
      "cell_type": "code",
      "source": [
        "print(a)"
      ],
      "metadata": {
        "colab": {
          "base_uri": "https://localhost:8080/"
        },
        "id": "T3s9yHL1luol",
        "outputId": "d6974289-16e1-4104-8ac8-9a699b73df52"
      },
      "execution_count": null,
      "outputs": [
        {
          "output_type": "stream",
          "name": "stdout",
          "text": [
            "{'a': 'apple', 'b': 'orange', 'c': 2014}\n"
          ]
        }
      ]
    },
    {
      "cell_type": "markdown",
      "source": [
        "practice. end"
      ],
      "metadata": {
        "id": "nMhxbg4bly31"
      }
    },
    {
      "cell_type": "markdown",
      "source": [
        "### 0314 ---> 파이썬 변수(list/str), 함수, syntax(반복문/조건문), list/dict comprehension"
      ],
      "metadata": {
        "id": "cyXEelCdzhMW"
      }
    },
    {
      "cell_type": "markdown",
      "source": [
        "-------> string.ipynb <-------"
      ],
      "metadata": {
        "id": "Z44YKnwE4K1M"
      }
    },
    {
      "cell_type": "code",
      "source": [
        "s = 'abcdef'\n",
        "print(s[0], s[5], s[-1], s[-6])\n",
        "print(s[1:3], s[1:], s[:3], s[:])"
      ],
      "metadata": {
        "colab": {
          "base_uri": "https://localhost:8080/"
        },
        "id": "Qed7Y9Knzxyw",
        "outputId": "efdf39be-b2cd-48c0-ec49-f8d7bfa672ff"
      },
      "execution_count": null,
      "outputs": [
        {
          "output_type": "stream",
          "name": "stdout",
          "text": [
            "a f f a\n",
            "bc bcdef abc abcdef\n"
          ]
        }
      ]
    },
    {
      "cell_type": "code",
      "source": [
        "n = [100, 200, 300]\n",
        "print(n[0], n[2], n[-1], n[-3])\n",
        "print(n[1:2], n[1:], n[:2], n[:])"
      ],
      "metadata": {
        "colab": {
          "base_uri": "https://localhost:8080/"
        },
        "id": "27n88hWd4bOS",
        "outputId": "111a76d2-2469-4373-bbfb-233b662a60fb"
      },
      "execution_count": null,
      "outputs": [
        {
          "output_type": "stream",
          "name": "stdout",
          "text": [
            "100 300 300 100\n",
            "[200] [200, 300] [100, 200] [100, 200, 300]\n"
          ]
        }
      ]
    },
    {
      "cell_type": "markdown",
      "source": [
        "-----> 关于字符串的索引方式，从左往右以0开始、从右往左以-1开始。"
      ],
      "metadata": {
        "id": "VuNOdo1X9Pm2"
      }
    },
    {
      "cell_type": "markdown",
      "source": [
        "Regarding the indexing of strings, it starts with 0 from left to right and -1 from right to left."
      ],
      "metadata": {
        "id": "Wv0RGmVc9vSj"
      }
    },
    {
      "cell_type": "markdown",
      "source": [
        "print(s[1:3]) ---> 输出第二个到第4四个的所有字符，但是不包括第四个字符本身"
      ],
      "metadata": {
        "id": "AvI3MIXb963D"
      }
    },
    {
      "cell_type": "markdown",
      "source": [
        "print(s[1:]) ---> 输出从第二个字符后的所有字符"
      ],
      "metadata": {
        "id": "HSbhC-Ui-Q96"
      }
    },
    {
      "cell_type": "markdown",
      "source": [
        "print(s[:3]) ---> 输出从开始字符到第四个字符为止，不包括第四个字符本身"
      ],
      "metadata": {
        "id": "b_nS0JJ_-11S"
      }
    },
    {
      "cell_type": "markdown",
      "source": [
        "print(s[:]) ---> 输出所有的字符"
      ],
      "metadata": {
        "id": "z8QdEf0N_LRL"
      }
    },
    {
      "cell_type": "code",
      "source": [
        "len(s)"
      ],
      "metadata": {
        "colab": {
          "base_uri": "https://localhost:8080/"
        },
        "id": "ki74HzfY4emU",
        "outputId": "938f037b-c3e6-443f-e2fd-f2ebf926225b"
      },
      "execution_count": null,
      "outputs": [
        {
          "output_type": "execute_result",
          "data": {
            "text/plain": [
              "6"
            ]
          },
          "metadata": {},
          "execution_count": 54
        }
      ]
    },
    {
      "cell_type": "markdown",
      "source": [
        "len函数 ---> 字符串的长度"
      ],
      "metadata": {
        "id": "ydQwrun_9w21"
      }
    },
    {
      "cell_type": "code",
      "source": [
        "s[1]+s[3]+s[4:]*10"
      ],
      "metadata": {
        "colab": {
          "base_uri": "https://localhost:8080/",
          "height": 37
        },
        "id": "CT_ISpuY4hUL",
        "outputId": "0d4774e9-fc16-4542-ac34-15b075ec69b0"
      },
      "execution_count": null,
      "outputs": [
        {
          "output_type": "execute_result",
          "data": {
            "text/plain": [
              "'bdefefefefefefefefefef'"
            ],
            "application/vnd.google.colaboratory.intrinsic+json": {
              "type": "string"
            }
          },
          "metadata": {},
          "execution_count": 55
        }
      ]
    },
    {
      "cell_type": "markdown",
      "source": [
        "s[4:]*10 ---> 输出字符串10次"
      ],
      "metadata": {
        "id": "DJTluXZE_jtJ"
      }
    },
    {
      "cell_type": "code",
      "source": [
        "s.upper()"
      ],
      "metadata": {
        "colab": {
          "base_uri": "https://localhost:8080/",
          "height": 37
        },
        "id": "XRf_oqmb4j-8",
        "outputId": "18388d2d-b7c8-4569-956a-b54348e3eca2"
      },
      "execution_count": null,
      "outputs": [
        {
          "output_type": "execute_result",
          "data": {
            "text/plain": [
              "'ABCDEF'"
            ],
            "application/vnd.google.colaboratory.intrinsic+json": {
              "type": "string"
            }
          },
          "metadata": {},
          "execution_count": 56
        }
      ]
    },
    {
      "cell_type": "markdown",
      "source": [
        "upper ---> 将字符串转换为大写字母"
      ],
      "metadata": {
        "id": "DL_PQYS7_se-"
      }
    },
    {
      "cell_type": "code",
      "source": [
        "s = ' this is a house built this year.\\n' \t\n",
        "s"
      ],
      "metadata": {
        "colab": {
          "base_uri": "https://localhost:8080/",
          "height": 37
        },
        "id": "5ukhNR724ldr",
        "outputId": "6baeee40-78b4-4635-c3f5-061b536b2479"
      },
      "execution_count": null,
      "outputs": [
        {
          "output_type": "execute_result",
          "data": {
            "text/plain": [
              "' this is a house built this year.\\n'"
            ],
            "application/vnd.google.colaboratory.intrinsic+json": {
              "type": "string"
            }
          },
          "metadata": {},
          "execution_count": 71
        }
      ]
    },
    {
      "cell_type": "code",
      "source": [
        "result = s.find('house') \t    # index of first instance of string t inside s (-1 if not found)\n",
        "result"
      ],
      "metadata": {
        "colab": {
          "base_uri": "https://localhost:8080/"
        },
        "id": "0OEKhEFV4njG",
        "outputId": "15e1f737-e3cf-4560-c217-c81a32fbffb8"
      },
      "execution_count": null,
      "outputs": [
        {
          "output_type": "execute_result",
          "data": {
            "text/plain": [
              "11"
            ]
          },
          "metadata": {},
          "execution_count": 65
        }
      ]
    },
    {
      "cell_type": "code",
      "source": [
        "result = s.find('this')\t    # index of last instance of string t inside s (-1 if not found)\n",
        "result"
      ],
      "metadata": {
        "colab": {
          "base_uri": "https://localhost:8080/"
        },
        "id": "yYP2ZUmm4p0b",
        "outputId": "5cdbe1b7-a525-4b75-e63a-271a85e9c522"
      },
      "execution_count": null,
      "outputs": [
        {
          "output_type": "execute_result",
          "data": {
            "text/plain": [
              "1"
            ]
          },
          "metadata": {},
          "execution_count": 66
        }
      ]
    },
    {
      "cell_type": "code",
      "source": [
        "s = s.strip()      \t            # a copy of s without leading or trailing whitespace\n",
        "s"
      ],
      "metadata": {
        "colab": {
          "base_uri": "https://localhost:8080/",
          "height": 37
        },
        "id": "WCYCsLZL4s3S",
        "outputId": "682c582d-afb1-4485-af11-cc10b2938ef0"
      },
      "execution_count": null,
      "outputs": [
        {
          "output_type": "execute_result",
          "data": {
            "text/plain": [
              "'this is a house built this year.'"
            ],
            "application/vnd.google.colaboratory.intrinsic+json": {
              "type": "string"
            }
          },
          "metadata": {},
          "execution_count": 67
        }
      ]
    },
    {
      "cell_type": "markdown",
      "source": [
        "strip ---> 用于移除字符串头尾指定的字符或字符序列"
      ],
      "metadata": {
        "id": "_a3dYSAzA18P"
      }
    },
    {
      "cell_type": "markdown",
      "source": [
        "// 该方法只能删除开头或结尾的字符，不能删除中间的字符"
      ],
      "metadata": {
        "id": "ykdN-nUTBIo5"
      }
    },
    {
      "cell_type": "code",
      "source": [
        "tokens = s.split(' ')\t        # split s into a list wherever a t is found (whitespace by default)\n",
        "tokens"
      ],
      "metadata": {
        "colab": {
          "base_uri": "https://localhost:8080/"
        },
        "id": "y1bfpNrM4wC7",
        "outputId": "35b6d787-bf48-4cca-f286-5ef719324327"
      },
      "execution_count": null,
      "outputs": [
        {
          "output_type": "execute_result",
          "data": {
            "text/plain": [
              "['this', 'is', 'a', 'house', 'built', 'this', 'year.']"
            ]
          },
          "metadata": {},
          "execution_count": 68
        }
      ]
    },
    {
      "cell_type": "markdown",
      "source": [
        "split ---> 分裂"
      ],
      "metadata": {
        "id": "tU2y8xyDBq1x"
      }
    },
    {
      "cell_type": "code",
      "source": [
        "s = ' '.join(tokens)\t        # combine the words of the text into a string using s as the glue\n",
        "s"
      ],
      "metadata": {
        "colab": {
          "base_uri": "https://localhost:8080/",
          "height": 37
        },
        "id": "XjbrWHNe4yj2",
        "outputId": "fec2b668-eab5-4a2e-d560-0aa7edb252f5"
      },
      "execution_count": null,
      "outputs": [
        {
          "output_type": "execute_result",
          "data": {
            "text/plain": [
              "'this is a house built this year.'"
            ],
            "application/vnd.google.colaboratory.intrinsic+json": {
              "type": "string"
            }
          },
          "metadata": {},
          "execution_count": 69
        }
      ]
    },
    {
      "cell_type": "code",
      "source": [
        "s = s.replace('this', 'that')   # replace instances of t with u inside s\n",
        "s"
      ],
      "metadata": {
        "colab": {
          "base_uri": "https://localhost:8080/",
          "height": 37
        },
        "id": "fS4oGlos41Mz",
        "outputId": "d78e81c7-85be-4585-d376-c9e1d1cf2749"
      },
      "execution_count": null,
      "outputs": [
        {
          "output_type": "execute_result",
          "data": {
            "text/plain": [
              "'that is a house built that year.'"
            ],
            "application/vnd.google.colaboratory.intrinsic+json": {
              "type": "string"
            }
          },
          "metadata": {},
          "execution_count": 70
        }
      ]
    },
    {
      "cell_type": "markdown",
      "source": [
        "‘this‘和’that’换位置"
      ],
      "metadata": {
        "id": "sY7pzIWzBeiy"
      }
    },
    {
      "cell_type": "markdown",
      "source": [
        "-------> function.ipynb <-------"
      ],
      "metadata": {
        "id": "AArv5H93B4ox"
      }
    },
    {
      "cell_type": "code",
      "source": [
        "def add(a,b):\n",
        "  return a+b\n",
        "\n",
        "def subtract(a,b):\n",
        "  return a-b\n",
        "\n",
        "def multiply(a,b):\n",
        "  return a*b\n",
        "\n",
        "def divide(a,b):\n",
        "  return a/b"
      ],
      "metadata": {
        "id": "VZNVJ221B7_y"
      },
      "execution_count": null,
      "outputs": []
    },
    {
      "cell_type": "code",
      "source": [
        "def add(a,b):\n",
        "  c = a + b\n",
        "  return c"
      ],
      "metadata": {
        "id": "fdWDHVXbCoII"
      },
      "execution_count": null,
      "outputs": []
    },
    {
      "cell_type": "code",
      "source": [
        "c = add(1,2); print(c)\n",
        "c = subtract(1,2); print(c)\n",
        "c = multiply(1,2); print(c)\n",
        "c = divide(1,2); print(c)"
      ],
      "metadata": {
        "colab": {
          "base_uri": "https://localhost:8080/"
        },
        "id": "0OiMdMkTCUwJ",
        "outputId": "f291aaf0-d7db-45f4-f9c5-8f838fe469a8"
      },
      "execution_count": null,
      "outputs": [
        {
          "output_type": "stream",
          "name": "stdout",
          "text": [
            "3\n",
            "-1\n",
            "2\n",
            "0.5\n"
          ]
        }
      ]
    },
    {
      "cell_type": "markdown",
      "source": [
        "代码形式(Code form) 为：  def  函数名  （  输入变量）\n",
        "def  함수명 (입력변수 ,  입력변수 )"
      ],
      "metadata": {
        "id": "2tAszH_XC488"
      }
    },
    {
      "cell_type": "markdown",
      "source": [
        "-------> syntax.ipynb <-------"
      ],
      "metadata": {
        "id": "oNa3H7eWDmIB"
      }
    },
    {
      "cell_type": "code",
      "source": [
        "a = [1, 2, 3, 4]\n",
        "for i in a:\n",
        "    print(i)"
      ],
      "metadata": {
        "colab": {
          "base_uri": "https://localhost:8080/"
        },
        "id": "YDyzxicHDreM",
        "outputId": "e6e0147a-4373-4b3a-b5fe-5c6da211edbb"
      },
      "execution_count": null,
      "outputs": [
        {
          "output_type": "stream",
          "name": "stdout",
          "text": [
            "1\n",
            "2\n",
            "3\n",
            "4\n"
          ]
        }
      ]
    },
    {
      "cell_type": "markdown",
      "source": [
        "分别进行运行，运行四次"
      ],
      "metadata": {
        "id": "yPLtRG2vFolz"
      }
    },
    {
      "cell_type": "code",
      "source": [
        "a = [1, 2, 3, 4]\n",
        "for i in range(len(a)):\n",
        "    print(a[i])"
      ],
      "metadata": {
        "colab": {
          "base_uri": "https://localhost:8080/"
        },
        "id": "ieQgeDFaE5YF",
        "outputId": "3d2060b6-bead-4e13-d94e-9572150cff21"
      },
      "execution_count": null,
      "outputs": [
        {
          "output_type": "stream",
          "name": "stdout",
          "text": [
            "1\n",
            "2\n",
            "3\n",
            "4\n"
          ]
        }
      ]
    },
    {
      "cell_type": "markdown",
      "source": [
        "range函数 ---> 范围函数"
      ],
      "metadata": {
        "id": "S6gTd7joF9_F"
      }
    },
    {
      "cell_type": "code",
      "source": [
        "a = ['red', 'green', 'blue', 'purple']\n",
        "for i in a:\n",
        "    print(i)"
      ],
      "metadata": {
        "colab": {
          "base_uri": "https://localhost:8080/"
        },
        "id": "HsEFl5zUE7sT",
        "outputId": "a784a4da-e214-4447-ff21-210573438b80"
      },
      "execution_count": null,
      "outputs": [
        {
          "output_type": "stream",
          "name": "stdout",
          "text": [
            "red\n",
            "green\n",
            "blue\n",
            "purple\n"
          ]
        }
      ]
    },
    {
      "cell_type": "code",
      "source": [
        "a = ['red', 'green', 'blue', 'purple']\n",
        "for i in range(len(a)):\n",
        "    print(a[i])"
      ],
      "metadata": {
        "colab": {
          "base_uri": "https://localhost:8080/"
        },
        "id": "8VlManixE9t2",
        "outputId": "05711ad8-736c-4471-e6d3-71e97e5c073e"
      },
      "execution_count": null,
      "outputs": [
        {
          "output_type": "stream",
          "name": "stdout",
          "text": [
            "red\n",
            "green\n",
            "blue\n",
            "purple\n"
          ]
        }
      ]
    },
    {
      "cell_type": "code",
      "source": [
        "a = 0\n",
        "if a == 0:\n",
        "    print(a)\n",
        "else:\n",
        "    print(a+1)"
      ],
      "metadata": {
        "colab": {
          "base_uri": "https://localhost:8080/"
        },
        "id": "4aYyRhL2E_lF",
        "outputId": "b37eda96-4413-4fcb-d7cb-19c0d47ceab2"
      },
      "execution_count": null,
      "outputs": [
        {
          "output_type": "stream",
          "name": "stdout",
          "text": [
            "0\n"
          ]
        }
      ]
    },
    {
      "cell_type": "markdown",
      "source": [
        "a = 0 (所代表的不完全是等于的意思）"
      ],
      "metadata": {
        "id": "mGVCTDuYGSBK"
      }
    },
    {
      "cell_type": "markdown",
      "source": [
        "a == 0 (所代表的是等于的意思）"
      ],
      "metadata": {
        "id": "oSJUp3P4GaEc"
      }
    },
    {
      "cell_type": "code",
      "source": [
        "for i in range(1, 3):\n",
        "    for j in range(3, 5):\n",
        "        print(i*j)"
      ],
      "metadata": {
        "colab": {
          "base_uri": "https://localhost:8080/"
        },
        "id": "Qu9dWtHxFBx8",
        "outputId": "c8c51a89-acfe-40ad-9fc2-89d29e224152"
      },
      "execution_count": null,
      "outputs": [
        {
          "output_type": "stream",
          "name": "stdout",
          "text": [
            "3\n",
            "4\n",
            "6\n",
            "8\n"
          ]
        }
      ]
    },
    {
      "cell_type": "markdown",
      "source": [
        "range(4)->\n",
        "range(1,3): -> [1,2]\n",
        "range(3,5): -> [3,4]"
      ],
      "metadata": {
        "id": "lOnkNqsiHDwH"
      }
    },
    {
      "cell_type": "code",
      "source": [
        "for i in range(1, 3):\n",
        "    for j in range(3, 5):\n",
        "        if j >=4:\n",
        "            print(i*j)"
      ],
      "metadata": {
        "colab": {
          "base_uri": "https://localhost:8080/"
        },
        "id": "gdUrCGL-FEaX",
        "outputId": "6fa33a3c-295a-4267-ead0-015a8935e7b9"
      },
      "execution_count": null,
      "outputs": [
        {
          "output_type": "stream",
          "name": "stdout",
          "text": [
            "4\n",
            "8\n"
          ]
        }
      ]
    },
    {
      "cell_type": "markdown",
      "source": [
        "I = 1 and 2\n",
        "j = 3 and 4\n",
        "I*j = 分别进行运算"
      ],
      "metadata": {
        "id": "eab0ettyHIHV"
      }
    },
    {
      "cell_type": "markdown",
      "source": [
        "j >= 4 的时候代表 其只有4 符合情况\n",
        "然后继续进行运算 \n",
        "只对j有约束，对i无约束 \n",
        "所以i还是存在两个数字 即 1 and 2"
      ],
      "metadata": {
        "id": "SuJK-s0hHOXt"
      }
    },
    {
      "cell_type": "code",
      "source": [
        "a = [1, 2, 3, 4]\n",
        "b = [i for i in a if i >=2]\n",
        "b"
      ],
      "metadata": {
        "colab": {
          "base_uri": "https://localhost:8080/"
        },
        "id": "VfVdKUZ0FG3Y",
        "outputId": "4ec17346-bdb6-4f5d-d54b-2289b0b7025a"
      },
      "execution_count": null,
      "outputs": [
        {
          "output_type": "execute_result",
          "data": {
            "text/plain": [
              "[2, 3, 4]"
            ]
          },
          "metadata": {},
          "execution_count": 94
        }
      ]
    },
    {
      "cell_type": "markdown",
      "source": [
        "list comprehension"
      ],
      "metadata": {
        "id": "En0spBPTHTu9"
      }
    },
    {
      "cell_type": "code",
      "source": [
        "a = ['red', 'green', 'blue', 'purple']\n",
        "b = [i for i in a if len(i) >=4]\n",
        "b"
      ],
      "metadata": {
        "colab": {
          "base_uri": "https://localhost:8080/"
        },
        "id": "sLgC0hmCFJKL",
        "outputId": "1534d258-f9ec-40ec-d323-9b8703604449"
      },
      "execution_count": null,
      "outputs": [
        {
          "output_type": "execute_result",
          "data": {
            "text/plain": [
              "['green', 'blue', 'purple']"
            ]
          },
          "metadata": {},
          "execution_count": 95
        }
      ]
    },
    {
      "cell_type": "markdown",
      "source": [
        "字母的数量\n",
        "在4或者4以上"
      ],
      "metadata": {
        "id": "5rgQ1oUeHbKM"
      }
    },
    {
      "cell_type": "code",
      "source": [
        "a = ['red', 'green', 'blue', 'purple']\n",
        "b = [1, 2, 3, 4]\n",
        "c = {a[i]:b[i] for i in range(4)}\n",
        "c"
      ],
      "metadata": {
        "colab": {
          "base_uri": "https://localhost:8080/"
        },
        "id": "V9yx9zszFLhv",
        "outputId": "b4e80850-a96b-4d96-fa16-35f1e287e039"
      },
      "execution_count": null,
      "outputs": [
        {
          "output_type": "execute_result",
          "data": {
            "text/plain": [
              "{'blue': 3, 'green': 2, 'purple': 4, 'red': 1}"
            ]
          },
          "metadata": {},
          "execution_count": 96
        }
      ]
    },
    {
      "cell_type": "markdown",
      "source": [
        "dick comprehension"
      ],
      "metadata": {
        "id": "zg6FN_MwHfQ4"
      }
    },
    {
      "cell_type": "markdown",
      "source": [
        "range（4）即 【0，1，2，3】"
      ],
      "metadata": {
        "id": "GV-vRGpjHf-J"
      }
    },
    {
      "cell_type": "markdown",
      "source": [
        "补充 아니라면 !="
      ],
      "metadata": {
        "id": "mHkCewrpGyBk"
      }
    },
    {
      "cell_type": "markdown",
      "source": [
        "### 0316 ---> 파이썬 import, numpy, matplotlib"
      ],
      "metadata": {
        "id": "qAmKUgasG1uc"
      }
    },
    {
      "cell_type": "markdown",
      "source": [
        "-------> import.ipynb <-------"
      ],
      "metadata": {
        "id": "ITo8cxgrITo4"
      }
    },
    {
      "cell_type": "markdown",
      "source": [
        "-------> packages.ipynb <-------"
      ],
      "metadata": {
        "id": "lHHtIM4UImMc"
      }
    },
    {
      "cell_type": "markdown",
      "source": [
        "-------> numpy.ipynb <-------"
      ],
      "metadata": {
        "id": "6q-C7o_BIr6y"
      }
    }
  ]
}