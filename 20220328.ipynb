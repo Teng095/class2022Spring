{
  "nbformat": 4,
  "nbformat_minor": 0,
  "metadata": {
    "colab": {
      "name": "20220328.ipynb",
      "provenance": [],
      "authorship_tag": "ABX9TyNVcpnEZwUn2FOkwvJbvA8R",
      "include_colab_link": true
    },
    "kernelspec": {
      "name": "python3",
      "display_name": "Python 3"
    },
    "language_info": {
      "name": "python"
    }
  },
  "cells": [
    {
      "cell_type": "markdown",
      "metadata": {
        "id": "view-in-github",
        "colab_type": "text"
      },
      "source": [
        "<a href=\"https://colab.research.google.com/github/Teng095/class2022Spring/blob/main/20220328.ipynb\" target=\"_parent\"><img src=\"https://colab.research.google.com/assets/colab-badge.svg\" alt=\"Open In Colab\"/></a>"
      ]
    },
    {
      "cell_type": "code",
      "execution_count": null,
      "metadata": {
        "id": "WAbb726J6M0S"
      },
      "outputs": [],
      "source": [
        "!pip install gradio\n",
        "import gradio as gr\n",
        "import requests\n",
        "import pandas as pd"
      ]
    },
    {
      "cell_type": "code",
      "source": [
        "URL = ('http://apis.data.go.kr/6260000/BusanTblFnrstrnStusService/'\n",
        "'getTblFnrstrnStusInfo?'\n",
        "'&serviceKey=b0TFSS5nZIEz%2BWQ84ikVByUeW6exkna9ydgVazN1DdHtetB0pUoWO8Bx3gzAm8PbR6Rno4lSSb9JY3ZZKX8LmQ%3D%3D'\n",
        "'&numOfRows=10&pageNo=1'\n",
        "'&resultType=json')\n",
        "response = requests.get(URL)"
      ],
      "metadata": {
        "id": "fDL2oo_R6OVB"
      },
      "execution_count": 39,
      "outputs": []
    },
    {
      "cell_type": "code",
      "source": [
        "response"
      ],
      "metadata": {
        "colab": {
          "base_uri": "https://localhost:8080/"
        },
        "id": "kTqRYFDr6PwM",
        "outputId": "1c34c6bc-e1ae-4e54-d1f9-aef59c4bccf1"
      },
      "execution_count": 40,
      "outputs": [
        {
          "output_type": "execute_result",
          "data": {
            "text/plain": [
              "<Response [200]>"
            ]
          },
          "metadata": {},
          "execution_count": 40
        }
      ]
    },
    {
      "cell_type": "code",
      "source": [
        "r = response.json()\n",
        "r"
      ],
      "metadata": {
        "id": "8WZMnITp6RBd"
      },
      "execution_count": null,
      "outputs": []
    },
    {
      "cell_type": "code",
      "source": [
        "items = r['getTblFnrstrnStusInfo']['item']\n",
        "\n",
        "addrJibun = [item['addrJibun'] for item in items]\n",
        "addrRoad = [item['addrRoad'] for item in items]\n",
        "bsnsCond = [item['bsnsCond'] for item in items]\n",
        "bsnsNm = [item['bsnsNm'] for item in items]\n",
        "bsnsSector = [item['bsnsSector'] for item in items]\n",
        "dataDay = [item['dataDay'] for item in items]\n",
        "gugun = [item['gugun'] for item in items]\n",
        "lat = [item['lat'] for item in items]\n",
        "lng = [item['lng'] for item in items]\n",
        "menu = [item['menu'] for item in items]\n",
        "ovrdDate = [item['ovrdDate'] for item in items]\n",
        "specDate = [item['specDate'] for item in items]\n",
        "tel = [item['tel'] for item in items]\n",
        "\n",
        "addrJibun = pd.Series(addrJibun)\n",
        "addrRoad = pd.Series(addrRoad)   \n",
        "bsnsCond = pd.Series(bsnsCond)\n",
        "bsnsNm = pd.Series(bsnsNm)\n",
        "bsnsSector = pd.Series(bsnsSector)\n",
        "dataDay = pd.Series(dataDay)\n",
        "gugun = pd.Series(gugun)\n",
        "lat = pd.Series(lat)\n",
        "lng = pd.Series(lng)\n",
        "menu = pd.Series(menu)\n",
        "ovrdDate = pd.Series(ovrdDate)\n",
        "specDate = pd.Series(specDate)\n",
        "tel = pd.Series(tel)\n",
        "\n",
        "df = pd.DataFrame({'addrJibun': addrJibun, 'addrRoad':addrRoad, 'bsnsCond': bsnsCond, 'bsnsNm': bsnsNm, 'bsnsSector': bsnsSector, 'dataDay': dataDay, 'gugun': gugun, 'lat': lat, 'lng': lng, 'menu': menu, 'ovrdDate': ovrdDate, 'specDate': specDate, 'tel': tel })"
      ],
      "metadata": {
        "id": "zz6h2nzu8tyZ"
      },
      "execution_count": 53,
      "outputs": []
    },
    {
      "cell_type": "code",
      "source": [
        "df"
      ],
      "metadata": {
        "id": "0yf0s91fTHq2"
      },
      "execution_count": null,
      "outputs": []
    }
  ]
}