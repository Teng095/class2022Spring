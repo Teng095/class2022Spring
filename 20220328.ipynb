{
  "nbformat": 4,
  "nbformat_minor": 0,
  "metadata": {
    "colab": {
      "name": "20220328.ipynb",
      "provenance": [],
      "authorship_tag": "ABX9TyMp613vWzaQPLBWeE6CR4HB",
      "include_colab_link": true
    },
    "kernelspec": {
      "name": "python3",
      "display_name": "Python 3"
    },
    "language_info": {
      "name": "python"
    }
  },
  "cells": [
    {
      "cell_type": "markdown",
      "metadata": {
        "id": "view-in-github",
        "colab_type": "text"
      },
      "source": [
        "<a href=\"https://colab.research.google.com/github/Teng095/class2022Spring/blob/main/20220328.ipynb\" target=\"_parent\"><img src=\"https://colab.research.google.com/assets/colab-badge.svg\" alt=\"Open In Colab\"/></a>"
      ]
    },
    {
      "cell_type": "code",
      "execution_count": null,
      "metadata": {
        "id": "WAbb726J6M0S"
      },
      "outputs": [],
      "source": [
        "!pip install gradio\n",
        "import gradio as gr\n",
        "import requests\n",
        "import pandas as pd"
      ]
    },
    {
      "cell_type": "code",
      "source": [
        "URL = ('http://apis.data.go.kr/6260000/BusanTblFnrstrnStusService/'\n",
        "'getTblFnrstrnStusInfo?'\n",
        "'&serviceKey=b0TFSS5nZIEz%2BWQ84ikVByUeW6exkna9ydgVazN1DdHtetB0pUoWO8Bx3gzAm8PbR6Rno4lSSb9JY3ZZKX8LmQ%3D%3D'\n",
        "'&numOfRows=10&pageNo=1'\n",
        "'&resultType=json')\n",
        "response = requests.get(URL)"
      ],
      "metadata": {
        "id": "fDL2oo_R6OVB"
      },
      "execution_count": 2,
      "outputs": []
    },
    {
      "cell_type": "code",
      "source": [
        "response"
      ],
      "metadata": {
        "colab": {
          "base_uri": "https://localhost:8080/"
        },
        "id": "kTqRYFDr6PwM",
        "outputId": "9e65c374-0370-4dca-f438-cbcc0630ff1d"
      },
      "execution_count": 3,
      "outputs": [
        {
          "output_type": "execute_result",
          "data": {
            "text/plain": [
              "<Response [200]>"
            ]
          },
          "metadata": {},
          "execution_count": 3
        }
      ]
    },
    {
      "cell_type": "code",
      "source": [
        "r = response.json()\n",
        "r"
      ],
      "metadata": {
        "id": "8WZMnITp6RBd",
        "colab": {
          "base_uri": "https://localhost:8080/"
        },
        "outputId": "5e5b91de-5038-4d60-ac42-dbe97efaefe9"
      },
      "execution_count": 5,
      "outputs": [
        {
          "output_type": "execute_result",
          "data": {
            "text/plain": [
              "{'getTblFnrstrnStusInfo': {'header': {'code': '00', 'message': 'NORMAL_CODE'},\n",
              "  'item': [{'addrJibun': '부산광역시 해운대구 중동 1225-5',\n",
              "    'addrRoad': '부산광역시 해운대구 해운대해변로 329-2 (중동, 2,3층)',\n",
              "    'bsnsCond': '복어취급',\n",
              "    'bsnsNm': '초원복국',\n",
              "    'bsnsSector': '일반음식점',\n",
              "    'dataDay': '2020-04-28',\n",
              "    'gugun': '부산광역시 해운대구',\n",
              "    'lat': '35.16288958',\n",
              "    'lng': '129.1659385',\n",
              "    'menu': '복국',\n",
              "    'ovrdDate': '2020-11-26',\n",
              "    'specDate': '2020-11-26',\n",
              "    'tel': '051-743-5291'},\n",
              "   {'addrJibun': '부산광역시 해운대구 중동 1394-65',\n",
              "    'addrRoad': '부산광역시 해운대구 중동1로43번길 23 (중동, 1~2층)',\n",
              "    'bsnsCond': '복어취급',\n",
              "    'bsnsNm': '금수복국',\n",
              "    'bsnsSector': '일반음식점',\n",
              "    'dataDay': '2020-04-28',\n",
              "    'gugun': '부산광역시 해운대구',\n",
              "    'lat': '35.16241675',\n",
              "    'lng': '129.1644938',\n",
              "    'menu': '복국',\n",
              "    'ovrdDate': '2020-11-26',\n",
              "    'specDate': '2020-11-26',\n",
              "    'tel': '051-742-3600'},\n",
              "   {'addrJibun': '부산광역시 해운대구 중동 1394-64',\n",
              "    'addrRoad': '부산광역시 해운대구 중동2로 5 (중동, 1층)',\n",
              "    'bsnsCond': '한식',\n",
              "    'bsnsNm': '기장식당',\n",
              "    'bsnsSector': '일반음식점',\n",
              "    'dataDay': '2020-04-28',\n",
              "    'gugun': '부산광역시 해운대구',\n",
              "    'lat': '35.16254039',\n",
              "    'lng': '129.164759',\n",
              "    'menu': '가자미찌개',\n",
              "    'ovrdDate': '2020-11-26',\n",
              "    'specDate': '2020-11-26',\n",
              "    'tel': '051-743-4944'},\n",
              "   {'addrJibun': '부산광역시 해운대구 우동 1458',\n",
              "    'addrRoad': '부산광역시 해운대구 센텀중앙로 97(재송동, 센텀스카이비즈 지하1층 C-B 107호',\n",
              "    'bsnsCond': '한식',\n",
              "    'bsnsNm': '남도',\n",
              "    'bsnsSector': '일반음식점',\n",
              "    'dataDay': '2020-04-28',\n",
              "    'gugun': '부산광역시 해운대구',\n",
              "    'lat': '35.1751303',\n",
              "    'lng': '129.124875',\n",
              "    'menu': '고등어구이',\n",
              "    'ovrdDate': '2020-11-26',\n",
              "    'specDate': '2020-11-26',\n",
              "    'tel': '051-905-9292'},\n",
              "   {'addrJibun': '부산광역시 해운대구 반여동 870-1',\n",
              "    'addrRoad': '부산광역시 해운대구 선수촌로 184 (반여동, 지상1층)',\n",
              "    'bsnsCond': '탕류(보신용)',\n",
              "    'bsnsNm': '남해돼지국밥',\n",
              "    'bsnsSector': '일반음식점',\n",
              "    'dataDay': '2020-04-28',\n",
              "    'gugun': '부산광역시 해운대구',\n",
              "    'lat': '35.20898505',\n",
              "    'lng': '129.1241611',\n",
              "    'menu': '국밥류',\n",
              "    'ovrdDate': '2020-11-26',\n",
              "    'specDate': '2020-11-26',\n",
              "    'tel': '051-523-0468'},\n",
              "   {'addrJibun': '부산광역시 해운대구 중동 1318-5',\n",
              "    'addrRoad': '부산광역시 해운대구 좌동로10번길 21 (중동, 지상2층)',\n",
              "    'bsnsCond': '일식',\n",
              "    'bsnsNm': '덴포라',\n",
              "    'bsnsSector': '일반음식점',\n",
              "    'dataDay': '2020-04-28',\n",
              "    'gugun': '부산광역시 해운대구',\n",
              "    'lat': '35.16735613',\n",
              "    'lng': '129.1701187',\n",
              "    'menu': '바다가재',\n",
              "    'ovrdDate': '2020-11-26',\n",
              "    'specDate': '2020-11-26',\n",
              "    'tel': '051-742-0633'},\n",
              "   {'addrJibun': '부산광역시 해운대구 우동 1435 ',\n",
              "    'addrRoad': '부산광역시 해운대구 마린시티3로 23 (우동, 벽산e오렌지상가 320호 - 325호 )',\n",
              "    'bsnsCond': '한식',\n",
              "    'bsnsNm': '동백삼계탕',\n",
              "    'bsnsSector': '일반음식점',\n",
              "    'dataDay': '2020-04-28',\n",
              "    'gugun': '부산광역시 해운대구',\n",
              "    'lat': '35.15664443',\n",
              "    'lng': '129.1469274',\n",
              "    'menu': '삼계탕',\n",
              "    'ovrdDate': '2020-11-26',\n",
              "    'specDate': '2020-11-26',\n",
              "    'tel': '051-900-9933'},\n",
              "   {'addrJibun': '부산광역시 해운대구 우동 1072-38',\n",
              "    'addrRoad': '부산광역시 해운대구 해운대로469번길 142 (우동)',\n",
              "    'bsnsCond': '한식',\n",
              "    'bsnsNm': '수비가든',\n",
              "    'bsnsSector': '일반음식점',\n",
              "    'dataDay': '2020-04-28',\n",
              "    'gugun': '부산광역시 해운대구',\n",
              "    'lat': '35.16869453',\n",
              "    'lng': '129.1413557',\n",
              "    'menu': '오리구이',\n",
              "    'ovrdDate': '2020-11-26',\n",
              "    'specDate': '2020-11-26',\n",
              "    'tel': '051-742-8998'},\n",
              "   {'addrJibun': '부산광역시 해운대구 중동 1380-4',\n",
              "    'addrRoad': '부산광역시 해운대구 구남로29번길 35 (중동, 2층)',\n",
              "    'bsnsCond': '한식',\n",
              "    'bsnsNm': '신토불이보쌈',\n",
              "    'bsnsSector': '일반음식점',\n",
              "    'dataDay': '2020-04-28',\n",
              "    'gugun': '부산광역시 해운대구',\n",
              "    'lat': '35.16281775',\n",
              "    'lng': '129.1621616',\n",
              "    'menu': '보쌈',\n",
              "    'ovrdDate': '2020-11-26',\n",
              "    'specDate': '2020-11-26',\n",
              "    'tel': '051-731-1441'},\n",
              "   {'addrJibun': '부산광역시 해운대구 우동 1496 롯데백화점센텀시티점',\n",
              "    'addrRoad': '부산광역시 해운대구 센텀남대로 59 (우동, 롯데백화점센텀시티점6층)',\n",
              "    'bsnsCond': '중국식',\n",
              "    'bsnsNm': '얌차이나',\n",
              "    'bsnsSector': '일반음식점',\n",
              "    'dataDay': '2020-04-28',\n",
              "    'gugun': '부산광역시 해운대구',\n",
              "    'lat': '35.16985471',\n",
              "    'lng': '129.1310752',\n",
              "    'menu': '중화요리',\n",
              "    'ovrdDate': '2020-11-26',\n",
              "    'specDate': '2020-11-26',\n",
              "    'tel': '051-730-3903'}],\n",
              "  'numOfRows': 10,\n",
              "  'pageNo': 1,\n",
              "  'totalCount': 557}}"
            ]
          },
          "metadata": {},
          "execution_count": 5
        }
      ]
    },
    {
      "cell_type": "code",
      "source": [
        "items = r['getTblFnrstrnStusInfo']['item']\n",
        "\n",
        "addrJibun = [item['addrJibun'] for item in items]\n",
        "addrRoad = [item['addrRoad'] for item in items]\n",
        "bsnsCond = [item['bsnsCond'] for item in items]\n",
        "bsnsNm = [item['bsnsNm'] for item in items]\n",
        "bsnsSector = [item['bsnsSector'] for item in items]\n",
        "dataDay = [item['dataDay'] for item in items]\n",
        "gugun = [item['gugun'] for item in items]\n",
        "lat = [item['lat'] for item in items]\n",
        "lng = [item['lng'] for item in items]\n",
        "menu = [item['menu'] for item in items]\n",
        "ovrdDate = [item['ovrdDate'] for item in items]\n",
        "specDate = [item['specDate'] for item in items]\n",
        "tel = [item['tel'] for item in items]\n",
        "\n",
        "addrJibun = pd.Series(addrJibun)\n",
        "addrRoad = pd.Series(addrRoad)   \n",
        "bsnsCond = pd.Series(bsnsCond)\n",
        "bsnsNm = pd.Series(bsnsNm)\n",
        "bsnsSector = pd.Series(bsnsSector)\n",
        "dataDay = pd.Series(dataDay)\n",
        "gugun = pd.Series(gugun)\n",
        "lat = pd.Series(lat)\n",
        "lng = pd.Series(lng)\n",
        "menu = pd.Series(menu)\n",
        "ovrdDate = pd.Series(ovrdDate)\n",
        "specDate = pd.Series(specDate)\n",
        "tel = pd.Series(tel)\n",
        "\n",
        "df = pd.DataFrame({'addrJibun': addrJibun, 'addrRoad':addrRoad, 'bsnsCond': bsnsCond, 'bsnsNm': bsnsNm, 'bsnsSector': bsnsSector, 'dataDay': dataDay, 'gugun': gugun, 'lat': lat, 'lng': lng, 'menu': menu, 'ovrdDate': ovrdDate, 'specDate': specDate, 'tel': tel })"
      ],
      "metadata": {
        "id": "zz6h2nzu8tyZ"
      },
      "execution_count": 6,
      "outputs": []
    },
    {
      "cell_type": "code",
      "source": [
        "df"
      ],
      "metadata": {
        "id": "0yf0s91fTHq2"
      },
      "execution_count": null,
      "outputs": []
    },
    {
      "cell_type": "code",
      "source": [
        "def test (in1, in2, in3, in4, in5, in6, in7, in8, in9, in10, in11, in12, in13):\n",
        "  data = {'addrJibun': [in1],\n",
        "        'addrRoad': [in2],\n",
        "        'bsnsCond': [in3],\n",
        "        'bsnsNm': [in4],\n",
        "        'bsnsSector': [in5],\n",
        "        'dataDay': [in6],\n",
        "        'gugun': [in7],\n",
        "        'lat': [in8],\n",
        "        'lng': [in9],\n",
        "        'menu': [in10],\n",
        "        'ovrdDate': [in11],\n",
        "        'specDate': [in12],\n",
        "        'tel': [in13]}\n",
        "  Xtest = pd.DataFrame(data)\n",
        "  yout = model.predict(Xtest)\n",
        "  return yout\n",
        "\n",
        "iface = gr.Interface(test, inputs = [\"number\", \"number\", \"number\", \"number\", \"number\", \"number\", \"number\", \"number\", \"number\", \"number\", \"number\", \"number\", \"number\"], outputs = [\"dataframe\"])\n",
        "iface.launch(debug=True)"
      ],
      "metadata": {
        "colab": {
          "base_uri": "https://localhost:8080/",
          "height": 612
        },
        "id": "mgvf_UjbuUJ-",
        "outputId": "6698709e-1a93-4d16-f17f-c4658aab9dc8"
      },
      "execution_count": null,
      "outputs": [
        {
          "output_type": "stream",
          "name": "stdout",
          "text": [
            "Colab notebook detected. This cell will run indefinitely so that you can see errors and logs. To turn off, set debug=False in launch().\n",
            "Running on public URL: https://56711.gradio.app\n",
            "\n",
            "This share link expires in 72 hours. For free permanent hosting, check out Spaces (https://huggingface.co/spaces)\n"
          ]
        },
        {
          "output_type": "display_data",
          "data": {
            "text/plain": [
              "<IPython.lib.display.IFrame at 0x7f93b46138d0>"
            ],
            "text/html": [
              "\n",
              "        <iframe\n",
              "            width=\"900\"\n",
              "            height=\"500\"\n",
              "            src=\"https://56711.gradio.app\"\n",
              "            frameborder=\"0\"\n",
              "            allowfullscreen\n",
              "        ></iframe>\n",
              "        "
            ]
          },
          "metadata": {}
        }
      ]
    }
  ]
}