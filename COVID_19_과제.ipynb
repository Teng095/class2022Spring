{
  "cells": [
    {
      "cell_type": "markdown",
      "metadata": {
        "id": "view-in-github",
        "colab_type": "text"
      },
      "source": [
        "<a href=\"https://colab.research.google.com/github/Teng095/class2022Spring/blob/main/COVID_19_%EA%B3%BC%EC%A0%9C.ipynb\" target=\"_parent\"><img src=\"https://colab.research.google.com/assets/colab-badge.svg\" alt=\"Open In Colab\"/></a>"
      ]
    },
    {
      "cell_type": "code",
      "execution_count": null,
      "metadata": {
        "id": "Y8a6nEQDR8Ya"
      },
      "outputs": [],
      "source": [
        "!pip install gradio\n",
        "import gradio as gr\n",
        "import pandas as pd\n",
        "import requests"
      ]
    },
    {
      "cell_type": "code",
      "execution_count": 160,
      "metadata": {
        "id": "xGWlXzFHzWSg"
      },
      "outputs": [],
      "source": [
        "import requests"
      ]
    },
    {
      "cell_type": "code",
      "execution_count": 161,
      "metadata": {
        "colab": {
          "base_uri": "https://localhost:8080/"
        },
        "id": "ynxS3ZYI1ZqX",
        "outputId": "8757c880-46c0-4c7c-e0ca-6e7e41e87e7e"
      },
      "outputs": [
        {
          "output_type": "execute_result",
          "data": {
            "text/plain": [
              "<Response [500]>"
            ]
          },
          "metadata": {},
          "execution_count": 161
        }
      ],
      "source": [
        "requests.get('http://apis.data.go.kr/1262000/SafetyNewsList0/getCountrySafetyNewsList0?serviceKey=서비스키&numOfRows=10&pageNo=1&title1=베이징%20노선%20운항')"
      ]
    },
    {
      "cell_type": "code",
      "execution_count": 162,
      "metadata": {
        "id": "WKGrTjXPc9yd"
      },
      "outputs": [],
      "source": [
        "URL = ( 'http://apis.data.go.kr/1262000/SafetyNewsList0/'\n",
        "        'getCountrySafetyNewsList?'\n",
        "        '&numOfRows=10'\n",
        "        '&pageNo=1'\n",
        "        '&title1=입국'\n",
        "        '&title2=코로나'\n",
        "        '&title3=운항'\n",
        "        '&title4=항공권'\n",
        "        '&title5=결리'\n",
        "        '&returnType=json'\n",
        "        '&ServiceKey=b0TFSS5nZIEz%2BWQ84ikVByUeW6exkna9ydgVazN1DdHtetB0pUoWO8Bx3gzAm8PbR6Rno4lSSb9JY3ZZKX8LmQ%3D%3D')\n",
        "response = requests.get(URL)"
      ]
    },
    {
      "cell_type": "code",
      "execution_count": 163,
      "metadata": {
        "colab": {
          "base_uri": "https://localhost:8080/"
        },
        "id": "eQDqhts9j3tU",
        "outputId": "045a5fe8-a2ac-4266-dc5e-dbbb41db5c40"
      },
      "outputs": [
        {
          "output_type": "execute_result",
          "data": {
            "text/plain": [
              "<Response [500]>"
            ]
          },
          "metadata": {},
          "execution_count": 163
        }
      ],
      "source": [
        "response"
      ]
    },
    {
      "cell_type": "markdown",
      "metadata": {
        "id": "5Skptl9iYGqJ"
      },
      "source": [
        "## **http://jsonviewer.stack.hu/**"
      ]
    },
    {
      "cell_type": "code",
      "execution_count": 165,
      "metadata": {
        "id": "1j9T6iVikcBJ"
      },
      "outputs": [],
      "source": [
        "r = response.text\n",
        "r = list(r)"
      ]
    },
    {
      "cell_type": "code",
      "execution_count": null,
      "metadata": {
        "id": "fjWq_A0nzrow"
      },
      "outputs": [],
      "source": [
        ""
      ]
    }
  ],
  "metadata": {
    "colab": {
      "name": "COVID-19-과제.ipynb",
      "provenance": [],
      "authorship_tag": "ABX9TyMRsn1vwmIaZocOpBDW/nHb",
      "include_colab_link": true
    },
    "kernelspec": {
      "display_name": "Python 3",
      "name": "python3"
    },
    "language_info": {
      "name": "python"
    }
  },
  "nbformat": 4,
  "nbformat_minor": 0
}